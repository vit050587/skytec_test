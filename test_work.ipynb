{
 "cells": [
  {
   "cell_type": "markdown",
   "metadata": {},
   "source": [
    "#test"
   ]
  },
  {
   "cell_type": "code",
   "execution_count": 68,
   "metadata": {},
   "outputs": [],
   "source": [
    "#pip install Faker"
   ]
  },
  {
   "cell_type": "code",
   "execution_count": 29,
   "metadata": {},
   "outputs": [],
   "source": [
    "import pandas as pd\n",
    "import numpy as np\n",
    "from faker import Faker\n",
    "fake = Faker()"
   ]
  },
  {
   "cell_type": "code",
   "execution_count": 30,
   "metadata": {},
   "outputs": [
    {
     "ename": "AttributeError",
     "evalue": "'function' object has no attribute 'set_index'",
     "output_type": "error",
     "traceback": [
      "\u001b[1;31m---------------------------------------------------------------------------\u001b[0m",
      "\u001b[1;31mAttributeError\u001b[0m                            Traceback (most recent call last)",
      "Cell \u001b[1;32mIn[30], line 19\u001b[0m\n\u001b[0;32m     17\u001b[0m df \u001b[38;5;241m=\u001b[39m df\u001b[38;5;241m.\u001b[39mdrop_duplicates()                     \u001b[38;5;66;03m# удаляю дубли\u001b[39;00m\n\u001b[0;32m     18\u001b[0m df \u001b[38;5;241m=\u001b[39m df\u001b[38;5;241m.\u001b[39misnull                                \u001b[38;5;66;03m# удаляю строки где нет пропусков значений числового типа данных  (в этом дата сете пропусков нет)\u001b[39;00m\n\u001b[1;32m---> 19\u001b[0m \u001b[43mdf\u001b[49m\u001b[38;5;241;43m.\u001b[39;49m\u001b[43mset_index\u001b[49m(\u001b[38;5;124m'\u001b[39m\u001b[38;5;124mbirthday\u001b[39m\u001b[38;5;124m'\u001b[39m, inplace\u001b[38;5;241m=\u001b[39m\u001b[38;5;28;01mTrue\u001b[39;00m)    \u001b[38;5;66;03m# нужно поменять индекс сделать временной ряд\u001b[39;00m\n\u001b[0;32m     20\u001b[0m idxs \u001b[38;5;241m=\u001b[39m df\u001b[38;5;241m.\u001b[39mindex\u001b[38;5;241m.\u001b[39mindexer_between_time(\n\u001b[0;32m     21\u001b[0m     \u001b[38;5;124m\"\u001b[39m\u001b[38;5;124m1:00\u001b[39m\u001b[38;5;124m\"\u001b[39m, \n\u001b[0;32m     22\u001b[0m     \u001b[38;5;124m\"\u001b[39m\u001b[38;5;124m3:00\u001b[39m\u001b[38;5;124m\"\u001b[39m, \n\u001b[0;32m     23\u001b[0m     include_start\u001b[38;5;241m=\u001b[39m\u001b[38;5;28;01mTrue\u001b[39;00m,\n\u001b[0;32m     24\u001b[0m     include_end\u001b[38;5;241m=\u001b[39m\u001b[38;5;28;01mTrue\u001b[39;00m)\n\u001b[0;32m     26\u001b[0m df \u001b[38;5;241m=\u001b[39m df\u001b[38;5;241m.\u001b[39miloc[pd\u001b[38;5;241m.\u001b[39mIndex(np\u001b[38;5;241m.\u001b[39marange(\u001b[38;5;28mlen\u001b[39m(df)))\u001b[38;5;241m.\u001b[39mdifference(idxs)]    \u001b[38;5;66;03m# удаляю записи временного промежутка\u001b[39;00m\n",
      "\u001b[1;31mAttributeError\u001b[0m: 'function' object has no attribute 'set_index'"
     ]
    }
   ],
   "source": [
    "df = pd.DataFrame(\n",
    "    [\n",
    "        {\n",
    "            \"first_name\": fake.first_name(),\n",
    "            \"city\": fake.city(),\n",
    "            \"postcode\": fake.postcode(),\n",
    "            \"birthday\": fake.date_time_this_year(),\n",
    "            \n",
    "        }\n",
    "        for _ in range(100000)\n",
    "    ]\n",
    ")\n",
    "\n",
    "df_dubl = df.head(10000)                      # выбрал первые строки сета (что бы копирнуть - создать дубли)\n",
    "df = pd.concat([df, df_dubl])\n",
    "df['postcode'] = df['postcode'].astype(int)   # поменял тип данных этого датасета (что бы соответствовать условию)\n",
    "df = df.drop_duplicates()                     # удаляю дубли\n",
    "df = df.isnull                                # удаляю строки где нет пропусков значений числового типа данных  (в этом дата сете пропусков нет)\n",
    "df.set_index('birthday', inplace=True)    # нужно поменять индекс сделать временной ряд\n",
    "idxs = df.index.indexer_between_time(\n",
    "    \"1:00\", \n",
    "    \"3:00\", \n",
    "    include_start=True,\n",
    "    include_end=True)\n",
    "\n",
    "df = df.iloc[pd.Index(np.arange(len(df))).difference(idxs)]    # удаляю записи временного промежутка\n",
    "\n",
    "df.to_csv(r\"C:\\Users\\vtk_ru1\\OneDrive - Servier Monde\\Рабочий стол\\Project ML\\Skytec_test\\skytec_test\\fake.csv\", index=False)  # создал датасет локалтно на компе\n"
   ]
  },
  {
   "cell_type": "code",
   "execution_count": 26,
   "metadata": {},
   "outputs": [
    {
     "data": {
      "text/plain": [
       "<bound method DataFrame.isnull of       first_name            city  postcode            birthday\n",
       "0       Brittany   Warrenborough     41448 2024-07-26 13:13:32\n",
       "1      Elizabeth         Rickton     19116 2024-04-04 18:04:38\n",
       "2      Katherine        Bethview     29525 2024-04-26 01:25:36\n",
       "3          Diana   Port Samantha      2176 2024-05-04 03:59:31\n",
       "4          Janet       Davistown      2523 2024-06-16 21:48:58\n",
       "...          ...             ...       ...                 ...\n",
       "99995     George      Whiteburgh     41796 2024-03-28 11:02:32\n",
       "99996      Henry       Whiteport     64895 2024-07-04 12:45:22\n",
       "99997       Lisa   Benjaminburgh     59278 2024-07-04 11:09:41\n",
       "99998    Michele  Shafferborough     82912 2024-06-04 00:00:52\n",
       "99999    Melinda        Tinaberg      3987 2024-05-03 17:57:21\n",
       "\n",
       "[100000 rows x 4 columns]>"
      ]
     },
     "execution_count": 26,
     "metadata": {},
     "output_type": "execute_result"
    }
   ],
   "source": [
    "df\n"
   ]
  },
  {
   "cell_type": "code",
   "execution_count": 28,
   "metadata": {},
   "outputs": [
    {
     "ename": "AttributeError",
     "evalue": "'function' object has no attribute 'set_index'",
     "output_type": "error",
     "traceback": [
      "\u001b[1;31m---------------------------------------------------------------------------\u001b[0m",
      "\u001b[1;31mAttributeError\u001b[0m                            Traceback (most recent call last)",
      "Cell \u001b[1;32mIn[28], line 1\u001b[0m\n\u001b[1;32m----> 1\u001b[0m \u001b[43mdf\u001b[49m\u001b[38;5;241;43m.\u001b[39;49m\u001b[43mset_index\u001b[49m(\u001b[38;5;124m'\u001b[39m\u001b[38;5;124mbirthday\u001b[39m\u001b[38;5;124m'\u001b[39m, inplace\u001b[38;5;241m=\u001b[39m\u001b[38;5;28;01mTrue\u001b[39;00m)    \u001b[38;5;66;03m# нужно поменять индекс сделать временной ряд\u001b[39;00m\n\u001b[0;32m      2\u001b[0m idxs \u001b[38;5;241m=\u001b[39m df\u001b[38;5;241m.\u001b[39mindex\u001b[38;5;241m.\u001b[39mindexer_between_time(\n\u001b[0;32m      3\u001b[0m     \u001b[38;5;124m\"\u001b[39m\u001b[38;5;124m1:00\u001b[39m\u001b[38;5;124m\"\u001b[39m, \n\u001b[0;32m      4\u001b[0m     \u001b[38;5;124m\"\u001b[39m\u001b[38;5;124m3:00\u001b[39m\u001b[38;5;124m\"\u001b[39m, \n\u001b[0;32m      5\u001b[0m     include_start\u001b[38;5;241m=\u001b[39m\u001b[38;5;28;01mTrue\u001b[39;00m,\n\u001b[0;32m      6\u001b[0m     include_end\u001b[38;5;241m=\u001b[39m\u001b[38;5;28;01mTrue\u001b[39;00m)\n\u001b[0;32m      8\u001b[0m df \u001b[38;5;241m=\u001b[39m df\u001b[38;5;241m.\u001b[39miloc[pd\u001b[38;5;241m.\u001b[39mIndex(np\u001b[38;5;241m.\u001b[39marange(\u001b[38;5;28mlen\u001b[39m(df)))\u001b[38;5;241m.\u001b[39mdifference(idxs)]    \u001b[38;5;66;03m# удаляю записи временного промежутка\u001b[39;00m\n",
      "\u001b[1;31mAttributeError\u001b[0m: 'function' object has no attribute 'set_index'"
     ]
    }
   ],
   "source": [
    "df.set_index('birthday', inplace=True)    # нужно поменять индекс сделать временной ряд\n",
    "idxs = df.index.indexer_between_time(\n",
    "    \"1:00\", \n",
    "    \"3:00\", \n",
    "    include_start=True,\n",
    "    include_end=True)\n",
    "\n",
    "df = df.iloc[pd.Index(np.arange(len(df))).difference(idxs)]    # удаляю записи временного промежутка\n",
    "\n",
    "df.to_csv(r\"C:\\Users\\vtk_ru1\\OneDrive - Servier Monde\\Рабочий стол\\Project ML\\Skytec_test\\skytec_test\\fake.csv\", index=False)  # создал датасет локалтно на компе"
   ]
  },
  {
   "cell_type": "code",
   "execution_count": 17,
   "metadata": {},
   "outputs": [
    {
     "ename": "AttributeError",
     "evalue": "'function' object has no attribute 'set_index'",
     "output_type": "error",
     "traceback": [
      "\u001b[1;31m---------------------------------------------------------------------------\u001b[0m",
      "\u001b[1;31mAttributeError\u001b[0m                            Traceback (most recent call last)",
      "Cell \u001b[1;32mIn[17], line 1\u001b[0m\n\u001b[1;32m----> 1\u001b[0m df \u001b[38;5;241m=\u001b[39m \u001b[43mdf\u001b[49m\u001b[38;5;241;43m.\u001b[39;49m\u001b[43mset_index\u001b[49m(\u001b[38;5;124m'\u001b[39m\u001b[38;5;124mbirthday\u001b[39m\u001b[38;5;124m'\u001b[39m)  \n",
      "\u001b[1;31mAttributeError\u001b[0m: 'function' object has no attribute 'set_index'"
     ]
    }
   ],
   "source": [
    "df = df.set_index('birthday')  "
   ]
  },
  {
   "cell_type": "code",
   "execution_count": 18,
   "metadata": {},
   "outputs": [
    {
     "data": {
      "text/plain": [
       "<bound method DataFrame.isnull of       first_name                 city  postcode            birthday\n",
       "0         Meghan            Lake Rita     19151 2024-07-23 17:33:12\n",
       "1       Brittany         Gregorymouth     37965 2024-03-18 23:52:11\n",
       "2          David           Ellenville     19118 2024-03-01 14:29:38\n",
       "3         Amanda  Lake Jacquelinetown     76687 2024-02-20 07:58:10\n",
       "4        Timothy        Rachelchester      3292 2024-07-06 15:38:01\n",
       "...          ...                  ...       ...                 ...\n",
       "99995     Andrew         Heathermouth     93116 2024-01-05 10:47:07\n",
       "99996      Jacob     West Matthewview      1390 2024-07-25 21:13:35\n",
       "99997      Erica          Antoniofort     13040 2024-02-02 08:26:42\n",
       "99998      James          New Rachael      4928 2024-07-15 13:26:25\n",
       "99999     Pamela           Medinaberg     93559 2024-01-02 04:24:02\n",
       "\n",
       "[100000 rows x 4 columns]>"
      ]
     },
     "execution_count": 18,
     "metadata": {},
     "output_type": "execute_result"
    }
   ],
   "source": [
    "df"
   ]
  },
  {
   "cell_type": "code",
   "execution_count": null,
   "metadata": {},
   "outputs": [],
   "source": [
    "def calculation_of_metrics():\n",
    "    \n",
    "    df = pd.read_csv(r\"C:\\Users\\vtk_ru1\\OneDrive - Servier Monde\\Рабочий стол\\Project ML\\Skytec_test\\skytec_test\\fake.csv\", index=False)\n",
    "\n",
    "    # Группировка данных по часам и выполнение агрегации\n",
    "    metrics = df.groupby(df.index.dt.floor('h')).agg(\n",
    "        unique=('city', 'nunique'),          # количество уникальных городов\n",
    "        average=('postcode', 'mean'),        # среднее значение почтового индекса)\n",
    "        median=('postcode', 'median')        # медиана почтового индекса)\n",
    "    )\n",
    "\n",
    "    # Сохранение результатов в файл 'metrics.csv'\n",
    "    metrics.to_csv(r\"C:\\Users\\vtk_ru1\\OneDrive - Servier Monde\\Рабочий стол\\Project ML\\Skytec_test\\skytec_test\\metrics.csv\", index=False)"
   ]
  }
 ],
 "metadata": {
  "kernelspec": {
   "display_name": "Python 3",
   "language": "python",
   "name": "python3"
  },
  "language_info": {
   "codemirror_mode": {
    "name": "ipython",
    "version": 3
   },
   "file_extension": ".py",
   "mimetype": "text/x-python",
   "name": "python",
   "nbconvert_exporter": "python",
   "pygments_lexer": "ipython3",
   "version": "3.12.1"
  }
 },
 "nbformat": 4,
 "nbformat_minor": 2
}
